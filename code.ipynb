{
 "metadata": {
  "language_info": {
   "codemirror_mode": {
    "name": "ipython",
    "version": 3
   },
   "file_extension": ".py",
   "mimetype": "text/x-python",
   "name": "python",
   "nbconvert_exporter": "python",
   "pygments_lexer": "ipython3",
   "version": "3.6.12-final"
  },
  "orig_nbformat": 2,
  "kernelspec": {
   "name": "python3",
   "display_name": "Python 3.6.12 64-bit ('gfcr': conda)",
   "metadata": {
    "interpreter": {
     "hash": "ce7f53447ebef59cfed4748d759ef7a06bdced42c3913bcf9d99f8e8e8acdf87"
    }
   }
  }
 },
 "nbformat": 4,
 "nbformat_minor": 2,
 "cells": [
  {
   "cell_type": "code",
   "execution_count": 1,
   "metadata": {},
   "outputs": [],
   "source": [
    "import pandas\n",
    "\n",
    "data = pandas.read_csv(\"./age_gender.csv\")"
   ]
  },
  {
   "cell_type": "code",
   "execution_count": 2,
   "metadata": {},
   "outputs": [
    {
     "output_type": "execute_result",
     "data": {
      "text/plain": [
       "   age  ethnicity  gender                        img_name  \\\n",
       "0    1          2       0  20161219203650636.jpg.chip.jpg   \n",
       "1    1          2       0  20161219222752047.jpg.chip.jpg   \n",
       "2    1          2       0  20161219222832191.jpg.chip.jpg   \n",
       "3    1          2       0  20161220144911423.jpg.chip.jpg   \n",
       "4    1          2       0  20161220144914327.jpg.chip.jpg   \n",
       "\n",
       "                                              pixels  \n",
       "0  129 128 128 126 127 130 133 135 139 142 145 14...  \n",
       "1  164 74 111 168 169 171 175 182 184 188 193 199...  \n",
       "2  67 70 71 70 69 67 70 79 90 103 116 132 145 155...  \n",
       "3  193 197 198 200 199 200 202 203 204 205 208 21...  \n",
       "4  202 205 209 210 209 209 210 211 212 214 218 21...  "
      ],
      "text/html": "<div>\n<style scoped>\n    .dataframe tbody tr th:only-of-type {\n        vertical-align: middle;\n    }\n\n    .dataframe tbody tr th {\n        vertical-align: top;\n    }\n\n    .dataframe thead th {\n        text-align: right;\n    }\n</style>\n<table border=\"1\" class=\"dataframe\">\n  <thead>\n    <tr style=\"text-align: right;\">\n      <th></th>\n      <th>age</th>\n      <th>ethnicity</th>\n      <th>gender</th>\n      <th>img_name</th>\n      <th>pixels</th>\n    </tr>\n  </thead>\n  <tbody>\n    <tr>\n      <th>0</th>\n      <td>1</td>\n      <td>2</td>\n      <td>0</td>\n      <td>20161219203650636.jpg.chip.jpg</td>\n      <td>129 128 128 126 127 130 133 135 139 142 145 14...</td>\n    </tr>\n    <tr>\n      <th>1</th>\n      <td>1</td>\n      <td>2</td>\n      <td>0</td>\n      <td>20161219222752047.jpg.chip.jpg</td>\n      <td>164 74 111 168 169 171 175 182 184 188 193 199...</td>\n    </tr>\n    <tr>\n      <th>2</th>\n      <td>1</td>\n      <td>2</td>\n      <td>0</td>\n      <td>20161219222832191.jpg.chip.jpg</td>\n      <td>67 70 71 70 69 67 70 79 90 103 116 132 145 155...</td>\n    </tr>\n    <tr>\n      <th>3</th>\n      <td>1</td>\n      <td>2</td>\n      <td>0</td>\n      <td>20161220144911423.jpg.chip.jpg</td>\n      <td>193 197 198 200 199 200 202 203 204 205 208 21...</td>\n    </tr>\n    <tr>\n      <th>4</th>\n      <td>1</td>\n      <td>2</td>\n      <td>0</td>\n      <td>20161220144914327.jpg.chip.jpg</td>\n      <td>202 205 209 210 209 209 210 211 212 214 218 21...</td>\n    </tr>\n  </tbody>\n</table>\n</div>"
     },
     "metadata": {},
     "execution_count": 2
    }
   ],
   "source": [
    "data.head()"
   ]
  },
  {
   "cell_type": "code",
   "execution_count": 3,
   "metadata": {},
   "outputs": [
    {
     "output_type": "execute_result",
     "data": {
      "text/plain": [
       "<matplotlib.image.AxesImage at 0x7f4a95bcada0>"
      ]
     },
     "metadata": {},
     "execution_count": 3
    },
    {
     "output_type": "display_data",
     "data": {
      "text/plain": "<Figure size 432x288 with 1 Axes>",
      "image/svg+xml": "<?xml version=\"1.0\" encoding=\"utf-8\" standalone=\"no\"?>\n<!DOCTYPE svg PUBLIC \"-//W3C//DTD SVG 1.1//EN\"\n  \"http://www.w3.org/Graphics/SVG/1.1/DTD/svg11.dtd\">\n<!-- Created with matplotlib (https://matplotlib.org/) -->\n<svg height=\"250.052344pt\" version=\"1.1\" viewBox=\"0 0 251.565 250.052344\" width=\"251.565pt\" xmlns=\"http://www.w3.org/2000/svg\" xmlns:xlink=\"http://www.w3.org/1999/xlink\">\n <metadata>\n  <rdf:RDF xmlns:cc=\"http://creativecommons.org/ns#\" xmlns:dc=\"http://purl.org/dc/elements/1.1/\" xmlns:rdf=\"http://www.w3.org/1999/02/22-rdf-syntax-ns#\">\n   <cc:Work>\n    <dc:type rdf:resource=\"http://purl.org/dc/dcmitype/StillImage\"/>\n    <dc:date>2020-11-19T23:29:22.789699</dc:date>\n    <dc:format>image/svg+xml</dc:format>\n    <dc:creator>\n     <cc:Agent>\n      <dc:title>Matplotlib v3.3.2, https://matplotlib.org/</dc:title>\n     </cc:Agent>\n    </dc:creator>\n   </cc:Work>\n  </rdf:RDF>\n </metadata>\n <defs>\n  <style type=\"text/css\">*{stroke-linecap:butt;stroke-linejoin:round;}</style>\n </defs>\n <g id=\"figure_1\">\n  <g id=\"patch_1\">\n   <path d=\"M 0 250.052344 \nL 251.565 250.052344 \nL 251.565 0 \nL 0 0 \nz\n\" style=\"fill:none;\"/>\n  </g>\n  <g id=\"axes_1\">\n   <g id=\"patch_2\">\n    <path d=\"M 26.925 226.174219 \nL 244.365 226.174219 \nL 244.365 8.734219 \nL 26.925 8.734219 \nz\n\" style=\"fill:#ffffff;\"/>\n   </g>\n   <g clip-path=\"url(#p2802f56550)\">\n    <image height=\"218\" id=\"image6742f39744\" transform=\"scale(1 -1)translate(0 -218)\" width=\"218\" x=\"26.925\" xlink:href=\"data:image/png;base64,\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\" y=\"-8.174219\"/>\n   </g>\n   <g id=\"matplotlib.axis_1\">\n    <g id=\"xtick_1\">\n     <g id=\"line2d_1\">\n      <defs>\n       <path d=\"M 0 0 \nL 0 3.5 \n\" id=\"ma165c7f3d4\" style=\"stroke:#000000;stroke-width:0.8;\"/>\n      </defs>\n      <g>\n       <use style=\"stroke:#000000;stroke-width:0.8;\" x=\"29.19\" xlink:href=\"#ma165c7f3d4\" y=\"226.174219\"/>\n      </g>\n     </g>\n     <g id=\"text_1\">\n      <!-- 0 -->\n      <g transform=\"translate(26.00875 240.772656)scale(0.1 -0.1)\">\n       <defs>\n        <path d=\"M 31.78125 66.40625 \nQ 24.171875 66.40625 20.328125 58.90625 \nQ 16.5 51.421875 16.5 36.375 \nQ 16.5 21.390625 20.328125 13.890625 \nQ 24.171875 6.390625 31.78125 6.390625 \nQ 39.453125 6.390625 43.28125 13.890625 \nQ 47.125 21.390625 47.125 36.375 \nQ 47.125 51.421875 43.28125 58.90625 \nQ 39.453125 66.40625 31.78125 66.40625 \nz\nM 31.78125 74.21875 \nQ 44.046875 74.21875 50.515625 64.515625 \nQ 56.984375 54.828125 56.984375 36.375 \nQ 56.984375 17.96875 50.515625 8.265625 \nQ 44.046875 -1.421875 31.78125 -1.421875 \nQ 19.53125 -1.421875 13.0625 8.265625 \nQ 6.59375 17.96875 6.59375 36.375 \nQ 6.59375 54.828125 13.0625 64.515625 \nQ 19.53125 74.21875 31.78125 74.21875 \nz\n\" id=\"DejaVuSans-48\"/>\n       </defs>\n       <use xlink:href=\"#DejaVuSans-48\"/>\n      </g>\n     </g>\n    </g>\n    <g id=\"xtick_2\">\n     <g id=\"line2d_2\">\n      <g>\n       <use style=\"stroke:#000000;stroke-width:0.8;\" x=\"74.49\" xlink:href=\"#ma165c7f3d4\" y=\"226.174219\"/>\n      </g>\n     </g>\n     <g id=\"text_2\">\n      <!-- 10 -->\n      <g transform=\"translate(68.1275 240.772656)scale(0.1 -0.1)\">\n       <defs>\n        <path d=\"M 12.40625 8.296875 \nL 28.515625 8.296875 \nL 28.515625 63.921875 \nL 10.984375 60.40625 \nL 10.984375 69.390625 \nL 28.421875 72.90625 \nL 38.28125 72.90625 \nL 38.28125 8.296875 \nL 54.390625 8.296875 \nL 54.390625 0 \nL 12.40625 0 \nz\n\" id=\"DejaVuSans-49\"/>\n       </defs>\n       <use xlink:href=\"#DejaVuSans-49\"/>\n       <use x=\"63.623047\" xlink:href=\"#DejaVuSans-48\"/>\n      </g>\n     </g>\n    </g>\n    <g id=\"xtick_3\">\n     <g id=\"line2d_3\">\n      <g>\n       <use style=\"stroke:#000000;stroke-width:0.8;\" x=\"119.79\" xlink:href=\"#ma165c7f3d4\" y=\"226.174219\"/>\n      </g>\n     </g>\n     <g id=\"text_3\">\n      <!-- 20 -->\n      <g transform=\"translate(113.4275 240.772656)scale(0.1 -0.1)\">\n       <defs>\n        <path d=\"M 19.1875 8.296875 \nL 53.609375 8.296875 \nL 53.609375 0 \nL 7.328125 0 \nL 7.328125 8.296875 \nQ 12.9375 14.109375 22.625 23.890625 \nQ 32.328125 33.6875 34.8125 36.53125 \nQ 39.546875 41.84375 41.421875 45.53125 \nQ 43.3125 49.21875 43.3125 52.78125 \nQ 43.3125 58.59375 39.234375 62.25 \nQ 35.15625 65.921875 28.609375 65.921875 \nQ 23.96875 65.921875 18.8125 64.3125 \nQ 13.671875 62.703125 7.8125 59.421875 \nL 7.8125 69.390625 \nQ 13.765625 71.78125 18.9375 73 \nQ 24.125 74.21875 28.421875 74.21875 \nQ 39.75 74.21875 46.484375 68.546875 \nQ 53.21875 62.890625 53.21875 53.421875 \nQ 53.21875 48.921875 51.53125 44.890625 \nQ 49.859375 40.875 45.40625 35.40625 \nQ 44.1875 33.984375 37.640625 27.21875 \nQ 31.109375 20.453125 19.1875 8.296875 \nz\n\" id=\"DejaVuSans-50\"/>\n       </defs>\n       <use xlink:href=\"#DejaVuSans-50\"/>\n       <use x=\"63.623047\" xlink:href=\"#DejaVuSans-48\"/>\n      </g>\n     </g>\n    </g>\n    <g id=\"xtick_4\">\n     <g id=\"line2d_4\">\n      <g>\n       <use style=\"stroke:#000000;stroke-width:0.8;\" x=\"165.09\" xlink:href=\"#ma165c7f3d4\" y=\"226.174219\"/>\n      </g>\n     </g>\n     <g id=\"text_4\">\n      <!-- 30 -->\n      <g transform=\"translate(158.7275 240.772656)scale(0.1 -0.1)\">\n       <defs>\n        <path d=\"M 40.578125 39.3125 \nQ 47.65625 37.796875 51.625 33 \nQ 55.609375 28.21875 55.609375 21.1875 \nQ 55.609375 10.40625 48.1875 4.484375 \nQ 40.765625 -1.421875 27.09375 -1.421875 \nQ 22.515625 -1.421875 17.65625 -0.515625 \nQ 12.796875 0.390625 7.625 2.203125 \nL 7.625 11.71875 \nQ 11.71875 9.328125 16.59375 8.109375 \nQ 21.484375 6.890625 26.8125 6.890625 \nQ 36.078125 6.890625 40.9375 10.546875 \nQ 45.796875 14.203125 45.796875 21.1875 \nQ 45.796875 27.640625 41.28125 31.265625 \nQ 36.765625 34.90625 28.71875 34.90625 \nL 20.21875 34.90625 \nL 20.21875 43.015625 \nL 29.109375 43.015625 \nQ 36.375 43.015625 40.234375 45.921875 \nQ 44.09375 48.828125 44.09375 54.296875 \nQ 44.09375 59.90625 40.109375 62.90625 \nQ 36.140625 65.921875 28.71875 65.921875 \nQ 24.65625 65.921875 20.015625 65.03125 \nQ 15.375 64.15625 9.8125 62.3125 \nL 9.8125 71.09375 \nQ 15.4375 72.65625 20.34375 73.4375 \nQ 25.25 74.21875 29.59375 74.21875 \nQ 40.828125 74.21875 47.359375 69.109375 \nQ 53.90625 64.015625 53.90625 55.328125 \nQ 53.90625 49.265625 50.4375 45.09375 \nQ 46.96875 40.921875 40.578125 39.3125 \nz\n\" id=\"DejaVuSans-51\"/>\n       </defs>\n       <use xlink:href=\"#DejaVuSans-51\"/>\n       <use x=\"63.623047\" xlink:href=\"#DejaVuSans-48\"/>\n      </g>\n     </g>\n    </g>\n    <g id=\"xtick_5\">\n     <g id=\"line2d_5\">\n      <g>\n       <use style=\"stroke:#000000;stroke-width:0.8;\" x=\"210.39\" xlink:href=\"#ma165c7f3d4\" y=\"226.174219\"/>\n      </g>\n     </g>\n     <g id=\"text_5\">\n      <!-- 40 -->\n      <g transform=\"translate(204.0275 240.772656)scale(0.1 -0.1)\">\n       <defs>\n        <path d=\"M 37.796875 64.3125 \nL 12.890625 25.390625 \nL 37.796875 25.390625 \nz\nM 35.203125 72.90625 \nL 47.609375 72.90625 \nL 47.609375 25.390625 \nL 58.015625 25.390625 \nL 58.015625 17.1875 \nL 47.609375 17.1875 \nL 47.609375 0 \nL 37.796875 0 \nL 37.796875 17.1875 \nL 4.890625 17.1875 \nL 4.890625 26.703125 \nz\n\" id=\"DejaVuSans-52\"/>\n       </defs>\n       <use xlink:href=\"#DejaVuSans-52\"/>\n       <use x=\"63.623047\" xlink:href=\"#DejaVuSans-48\"/>\n      </g>\n     </g>\n    </g>\n   </g>\n   <g id=\"matplotlib.axis_2\">\n    <g id=\"ytick_1\">\n     <g id=\"line2d_6\">\n      <defs>\n       <path d=\"M 0 0 \nL -3.5 0 \n\" id=\"m89d5e9e89b\" style=\"stroke:#000000;stroke-width:0.8;\"/>\n      </defs>\n      <g>\n       <use style=\"stroke:#000000;stroke-width:0.8;\" x=\"26.925\" xlink:href=\"#m89d5e9e89b\" y=\"10.999219\"/>\n      </g>\n     </g>\n     <g id=\"text_6\">\n      <!-- 0 -->\n      <g transform=\"translate(13.5625 14.798437)scale(0.1 -0.1)\">\n       <use xlink:href=\"#DejaVuSans-48\"/>\n      </g>\n     </g>\n    </g>\n    <g id=\"ytick_2\">\n     <g id=\"line2d_7\">\n      <g>\n       <use style=\"stroke:#000000;stroke-width:0.8;\" x=\"26.925\" xlink:href=\"#m89d5e9e89b\" y=\"56.299219\"/>\n      </g>\n     </g>\n     <g id=\"text_7\">\n      <!-- 10 -->\n      <g transform=\"translate(7.2 60.098437)scale(0.1 -0.1)\">\n       <use xlink:href=\"#DejaVuSans-49\"/>\n       <use x=\"63.623047\" xlink:href=\"#DejaVuSans-48\"/>\n      </g>\n     </g>\n    </g>\n    <g id=\"ytick_3\">\n     <g id=\"line2d_8\">\n      <g>\n       <use style=\"stroke:#000000;stroke-width:0.8;\" x=\"26.925\" xlink:href=\"#m89d5e9e89b\" y=\"101.599219\"/>\n      </g>\n     </g>\n     <g id=\"text_8\">\n      <!-- 20 -->\n      <g transform=\"translate(7.2 105.398437)scale(0.1 -0.1)\">\n       <use xlink:href=\"#DejaVuSans-50\"/>\n       <use x=\"63.623047\" xlink:href=\"#DejaVuSans-48\"/>\n      </g>\n     </g>\n    </g>\n    <g id=\"ytick_4\">\n     <g id=\"line2d_9\">\n      <g>\n       <use style=\"stroke:#000000;stroke-width:0.8;\" x=\"26.925\" xlink:href=\"#m89d5e9e89b\" y=\"146.899219\"/>\n      </g>\n     </g>\n     <g id=\"text_9\">\n      <!-- 30 -->\n      <g transform=\"translate(7.2 150.698437)scale(0.1 -0.1)\">\n       <use xlink:href=\"#DejaVuSans-51\"/>\n       <use x=\"63.623047\" xlink:href=\"#DejaVuSans-48\"/>\n      </g>\n     </g>\n    </g>\n    <g id=\"ytick_5\">\n     <g id=\"line2d_10\">\n      <g>\n       <use style=\"stroke:#000000;stroke-width:0.8;\" x=\"26.925\" xlink:href=\"#m89d5e9e89b\" y=\"192.199219\"/>\n      </g>\n     </g>\n     <g id=\"text_10\">\n      <!-- 40 -->\n      <g transform=\"translate(7.2 195.998437)scale(0.1 -0.1)\">\n       <use xlink:href=\"#DejaVuSans-52\"/>\n       <use x=\"63.623047\" xlink:href=\"#DejaVuSans-48\"/>\n      </g>\n     </g>\n    </g>\n   </g>\n   <g id=\"patch_3\">\n    <path d=\"M 26.925 226.174219 \nL 26.925 8.734219 \n\" style=\"fill:none;stroke:#000000;stroke-linecap:square;stroke-linejoin:miter;stroke-width:0.8;\"/>\n   </g>\n   <g id=\"patch_4\">\n    <path d=\"M 244.365 226.174219 \nL 244.365 8.734219 \n\" style=\"fill:none;stroke:#000000;stroke-linecap:square;stroke-linejoin:miter;stroke-width:0.8;\"/>\n   </g>\n   <g id=\"patch_5\">\n    <path d=\"M 26.925 226.174219 \nL 244.365 226.174219 \n\" style=\"fill:none;stroke:#000000;stroke-linecap:square;stroke-linejoin:miter;stroke-width:0.8;\"/>\n   </g>\n   <g id=\"patch_6\">\n    <path d=\"M 26.925 8.734219 \nL 244.365 8.734219 \n\" style=\"fill:none;stroke:#000000;stroke-linecap:square;stroke-linejoin:miter;stroke-width:0.8;\"/>\n   </g>\n  </g>\n </g>\n <defs>\n  <clipPath id=\"p2802f56550\">\n   <rect height=\"217.44\" width=\"217.44\" x=\"26.925\" y=\"8.734219\"/>\n  </clipPath>\n </defs>\n</svg>\n",
      "image/png": "[encoded data removed]"
     },
     "metadata": {
      "needs_background": "light"
     }
    }
   ],
   "source": [
    "from matplotlib import pyplot as plt\n",
    "import numpy as np\n",
    "import math\n",
    "\n",
    "image = data['pixels'][15000].split(' ')\n",
    "image = [int(x) for x in image]\n",
    "image = np.array(image)\n",
    "\n",
    "size = int(math.sqrt(len(data['pixels'][1].split(' '))))\n",
    "\n",
    "image = np.resize(image, (size, size))\n",
    "\n",
    "plt.imshow(image, cmap='gray', vmin=0, vmax=255)"
   ]
  },
  {
   "cell_type": "code",
   "execution_count": 9,
   "metadata": {},
   "outputs": [],
   "source": [
    "import os\n",
    "from matplotlib import pyplot as plt\n",
    "import numpy as np\n",
    "import math\n",
    "from PIL import Image\n",
    "from tqdm import tqdm\n",
    "\n",
    "\n",
    "def dumpImages(dataDF, path):\n",
    "    os.system('rm -rf {}'.format(path))\n",
    "\n",
    "    numberOfImages = dataDF.shape[0]\n",
    "    size = int(math.sqrt(len(data['pixels'][0].split(' '))))\n",
    "    os.mkdir(path)\n",
    "    os.mkdir('{}/male'.format(path))\n",
    "    os.mkdir('{}/female'.format(path))\n",
    "    for i in tqdm(range(numberOfImages), desc='{} is dumping'.format(path)):\n",
    "        image = data['pixels'][i].split(' ')\n",
    "        image = [int(x) for x in image]\n",
    "        image = np.array(image).astype(np.uint8)\n",
    "\n",
    "        image = np.resize(image, (size, size))\n",
    "\n",
    "        image = Image.fromarray(image)\n",
    "        if data['gender'][i] == 0:\n",
    "            image.save('{}/male/{}.jpeg'.format(path, i), 'JPEG')\n",
    "        else:\n",
    "            image.save('{}/female/{}.jpeg'.format(path, i), 'JPEG')\n",
    "\n",
    "# dumpImages(data, './images')"
   ]
  },
  {
   "cell_type": "code",
   "execution_count": 10,
   "metadata": {},
   "outputs": [
    {
     "output_type": "stream",
     "name": "stderr",
     "text": [
      "./train is dumping: 100%|██████████| 16593/16593 [00:10<00:00, 1609.63it/s]\n",
      "./test is dumping: 100%|██████████| 4741/4741 [00:02<00:00, 1624.73it/s]\n",
      "./val is dumping: 100%|██████████| 2371/2371 [00:01<00:00, 1616.11it/s]\n"
     ]
    }
   ],
   "source": [
    "from sklearn.model_selection import train_test_split\n",
    "\n",
    "def splitTrainTestVal(data, trainSize, testSize, randomState):\n",
    "    if trainSize + testSize >= 1.0:\n",
    "        return None\n",
    "    valSize = 1.0 - trainSize - testSize\n",
    "\n",
    "    dataTrainIndex, dataTestValIndex = train_test_split(data.index, train_size=trainSize, random_state=randomState)\n",
    "    dataTestIndex, dataValIndex = train_test_split(dataTestValIndex, train_size=testSize / (testSize + valSize), random_state=randomState)\n",
    "\n",
    "    return data.iloc[dataTrainIndex], data.iloc[dataTestIndex], data.iloc[dataValIndex]\n",
    "\n",
    "train, test, val = splitTrainTestVal(data, 0.70, 0.2, 42)\n",
    "\n",
    "dumpImages(train, './train')\n",
    "dumpImages(test, './test')\n",
    "dumpImages(val, './val')"
   ]
  },
  {
   "cell_type": "code",
   "execution_count": null,
   "metadata": {},
   "outputs": [],
   "source": []
  }
 ]
}